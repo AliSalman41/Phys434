{
 "cells": [
  {
   "cell_type": "code",
   "execution_count": 27,
   "id": "cee5c0b3-57dd-421b-a167-fd316abb4a32",
   "metadata": {},
   "outputs": [],
   "source": [
    "import pickle\n",
    "%matplotlib inline\n",
    "import numpy as np\n",
    "import matplotlib\n",
    "import matplotlib.pyplot as plt\n",
    "import scipy\n",
    "from scipy import stats\n",
    "import h5py\n",
    "from scipy import stats\n",
    "from scipy.stats import poisson\n",
    "from scipy.stats import norm"
   ]
  },
  {
   "cell_type": "code",
   "execution_count": 58,
   "id": "c96be435-60ab-4fbc-8a69-789ae0427d3b",
   "metadata": {},
   "outputs": [
    {
     "data": {
      "text/plain": [
       "Index(['pt', 'eta', 'phi', 'mass', 'ee2', 'ee3', 'd2', 'angularity', 't1',\n",
       "       't2', 't3', 't21', 't32', 'KtDeltaR'],\n",
       "      dtype='object')"
      ]
     },
     "execution_count": 58,
     "metadata": {},
     "output_type": "execute_result"
    }
   ],
   "source": [
    "# open the file of interest, and use pickle loading\n",
    "infile = open (\"Sample_pt_250_500.pkl\",'rb')\n",
    "new_dict = pickle.load(infile)\n",
    "\n",
    "# list all keys of the files\n",
    "new_dict.keys()"
   ]
  },
  {
   "cell_type": "code",
   "execution_count": 59,
   "id": "f7960254-ac8b-4da2-a1ac-b8439fe563ac",
   "metadata": {},
   "outputs": [
    {
     "name": "stdout",
     "output_type": "stream",
     "text": [
      "125.15036485403486 1.2980200835589373\n",
      "130.55267214662751 1.445626317832899\n",
      "125.70306309880351 0.986596849742669\n",
      "126.21585336608149 1.2184665392866647\n",
      "132.18250371689544 1.2917844364435773\n",
      "125.67653506886116 0.4343656746345235\n",
      "127.65400794990293 0.9312049446719695\n",
      "124.16656852260293 0.9493560863407668\n",
      "122.13035265114684 3.0022665455324082\n",
      "125.19144633816678 0.5539996032675585\n"
     ]
    }
   ],
   "source": [
    "for i in range(10):\n",
    "    print(new_dict['mass'][i],new_dict['d2'][i])"
   ]
  },
  {
   "cell_type": "code",
   "execution_count": 17,
   "id": "53cf4d93-be93-4973-8554-cc275af7ccfb",
   "metadata": {},
   "outputs": [],
   "source": [
    "pt = new_dict['pt']\n",
    "eta = new_dict['eta']     #used to identify jets. Likely the radial dimension of the cone. see below\n",
    "phi = new_dict['phi']     #used to identify jets. Likely the azimuthal dimension of cone. see below \n",
    "mass = new_dict['mass']\n",
    "ee2 = new_dict['ee2']     #ee2 and ee3 are energy correlation functions that describe distributions of  \n",
    "ee3 = new_dict['ee3']     #the energy of particles hard scattered\n",
    "d2 = new_dict['d2']\n",
    "angularity = new_dict['angularity']   #can be seen as a measure of QCD radiation around the jet axis, i.e. as the radiation in a one-pronged jet.\n",
    "t1 = new_dict['t1']\n",
    "t2 = new_dict['t2']\n",
    "t3 = new_dict['t3']\n",
    "t21 = new_dict['t21']\n",
    "t32 = new_dict['t32']\n",
    "ktDeltaR = new_dict['KtDeltaR']    #the difference between two cones (delta R) of two subjets within the large R jet"
   ]
  },
  {
   "cell_type": "markdown",
   "id": "7694306b-2a94-436e-8734-55ed8231f2d1",
   "metadata": {},
   "source": [
    "jet is particles inside cone R=(√(Δη)2+Δ(ϕ)2)"
   ]
  },
  {
   "cell_type": "code",
   "execution_count": 15,
   "id": "1cbbc8b3-30e7-4478-b5ad-1469575f09ea",
   "metadata": {},
   "outputs": [
    {
     "name": "stdout",
     "output_type": "stream",
     "text": [
      "-1.1704125298734536\n",
      "0.18881744125909125\n"
     ]
    },
    {
     "data": {
      "text/plain": [
       "1.185545240051348"
      ]
     },
     "execution_count": 15,
     "metadata": {},
     "output_type": "execute_result"
    }
   ],
   "source": [
    "eta = new_dict['eta'][1]\n",
    "phi = new_dict['phi'][1]\n",
    "print(eta)\n",
    "print(phi)\n",
    "R = np.sqrt(eta**2 + phi**2)\n",
    "R"
   ]
  },
  {
   "cell_type": "code",
   "execution_count": 39,
   "id": "cf54339b-177b-462b-905a-971f4a3742b4",
   "metadata": {},
   "outputs": [
    {
     "data": {
      "text/plain": [
       "(0.0, 700.0)"
      ]
     },
     "execution_count": 39,
     "metadata": {},
     "output_type": "execute_result"
    },
    {
     "data": {
      "image/png": "[encoded data removed]",
      "text/plain": [
       "<Figure size 432x288 with 1 Axes>"
      ]
     },
     "metadata": {
      "needs_background": "light"
     },
     "output_type": "display_data"
    }
   ],
   "source": [
    "pt = new_dict['pt'][:]\n",
    "mass = new_dict['mass'][:]\n",
    "fig,ax = plt.subplots(1,1)\n",
    "plt.scatter(mass,pt)\n",
    "plt.xlim([0,500])\n",
    "plt.ylim(0,700)"
   ]
  },
  {
   "cell_type": "code",
   "execution_count": 21,
   "id": "d13a2f28-1229-4a85-acf5-7d39644d5139",
   "metadata": {},
   "outputs": [
    {
     "data": {
      "text/plain": [
       "0        125.298720\n",
       "1         88.047054\n",
       "2         85.794174\n",
       "3         42.947328\n",
       "4         59.542227\n",
       "            ...    \n",
       "99995     67.399102\n",
       "99996     90.775772\n",
       "99997    106.611253\n",
       "99998     66.278542\n",
       "99999     62.786390\n",
       "Name: mass, Length: 100000, dtype: float64"
      ]
     },
     "execution_count": 21,
     "metadata": {},
     "output_type": "execute_result"
    }
   ],
   "source": [
    "new_dict['mass'][:]"
   ]
  },
  {
   "cell_type": "code",
   "execution_count": 42,
   "id": "3aafb96d-e93a-44dd-abee-840b51121f56",
   "metadata": {},
   "outputs": [
    {
     "data": {
      "text/plain": [
       "0        0.333731\n",
       "1        0.477481\n",
       "2        0.117091\n",
       "3        0.054606\n",
       "4        0.095201\n",
       "           ...   \n",
       "99995    0.039376\n",
       "99996    0.321335\n",
       "99997    0.053165\n",
       "99998    0.212806\n",
       "99999    0.175638\n",
       "Name: KtDeltaR, Length: 100000, dtype: float64"
      ]
     },
     "execution_count": 42,
     "metadata": {},
     "output_type": "execute_result"
    }
   ],
   "source": [
    "ktDeltaR = new_dict['KtDeltaR'] "
   ]
  },
  {
   "cell_type": "code",
   "execution_count": 53,
   "id": "eb02d2db-beb5-4f3e-b9ba-83e2771989b9",
   "metadata": {},
   "outputs": [
    {
     "data": {
      "image/png": "[encoded data removed]",
      "text/plain": [
       "<Figure size 432x288 with 1 Axes>"
      ]
     },
     "metadata": {
      "needs_background": "light"
     },
     "output_type": "display_data"
    }
   ],
   "source": [
    "plt.hist(ktDeltaR,bins =20)\n",
    "plt.show()"
   ]
  },
  {
   "cell_type": "code",
   "execution_count": 46,
   "id": "449d4e5d-5b8e-48a6-89db-bece2b4da6f7",
   "metadata": {},
   "outputs": [
    {
     "data": {
      "text/plain": [
       "<matplotlib.collections.PathCollection at 0x7f1e6943f850>"
      ]
     },
     "execution_count": 46,
     "metadata": {},
     "output_type": "execute_result"
    },
    {
     "data": {
      "image/png": "[encoded data removed]",
      "text/plain": [
       "<Figure size 432x288 with 1 Axes>"
      ]
     },
     "metadata": {
      "needs_background": "light"
     },
     "output_type": "display_data"
    }
   ],
   "source": [
    "plt.scatter(angularity, ee2)"
   ]
  },
  {
   "cell_type": "code",
   "execution_count": 54,
   "id": "84616a51-c520-4808-bae6-b4558adafed6",
   "metadata": {},
   "outputs": [
    {
     "data": {
      "image/png": "[encoded data removed]",
      "text/plain": [
       "<Figure size 432x288 with 1 Axes>"
      ]
     },
     "metadata": {
      "needs_background": "light"
     },
     "output_type": "display_data"
    }
   ],
   "source": [
    "plt.hist(pt,bins=20)\n",
    "plt.show()"
   ]
  },
  {
   "cell_type": "code",
   "execution_count": 55,
   "id": "ccea2152-eb17-4bf5-8b40-8a7b8b79bcba",
   "metadata": {},
   "outputs": [
    {
     "data": {
      "text/plain": [
       "<matplotlib.collections.PathCollection at 0x7f1e6941fdf0>"
      ]
     },
     "execution_count": 55,
     "metadata": {},
     "output_type": "execute_result"
    },
    {
     "data": {
      "image/png": "[encoded data removed]",
      "text/plain": [
       "<Figure size 432x288 with 1 Axes>"
      ]
     },
     "metadata": {
      "needs_background": "light"
     },
     "output_type": "display_data"
    }
   ],
   "source": [
    "plt.scatter(mass,ee2)"
   ]
  },
  {
   "cell_type": "code",
   "execution_count": 56,
   "id": "973b0875-928b-4f86-b7cd-24c671e0aede",
   "metadata": {},
   "outputs": [
    {
     "data": {
      "text/plain": [
       "<matplotlib.collections.PathCollection at 0x7f1e69135d00>"
      ]
     },
     "execution_count": 56,
     "metadata": {},
     "output_type": "execute_result"
    },
    {
     "data": {
      "image/png": "[encoded data removed]",
      "text/plain": [
       "<Figure size 432x288 with 1 Axes>"
      ]
     },
     "metadata": {
      "needs_background": "light"
     },
     "output_type": "display_data"
    }
   ],
   "source": [
    "plt.scatter(mass,ee3)"
   ]
  },
  {
   "cell_type": "code",
   "execution_count": null,
   "id": "b2892f90-48ff-42ad-b5da-3f65f840aaa4",
   "metadata": {},
   "outputs": [],
   "source": []
  }
 ],
 "metadata": {
  "kernelspec": {
   "display_name": "Python 3",
   "language": "python",
   "name": "python3"
  },
  "language_info": {
   "codemirror_mode": {
    "name": "ipython",
    "version": 3
   },
   "file_extension": ".py",
   "mimetype": "text/x-python",
   "name": "python",
   "nbconvert_exporter": "python",
   "pygments_lexer": "ipython3",
   "version": "3.8.8"
  }
 },
 "nbformat": 4,
 "nbformat_minor": 5
}
